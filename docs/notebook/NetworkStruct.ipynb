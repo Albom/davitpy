{
 "metadata": {
  "name": "NetworkStruct"
 },
 "nbformat": 3,
 "nbformat_minor": 0,
 "worksheets": [
  {
   "cells": [
    {
     "cell_type": "markdown",
     "metadata": {},
     "source": [
      "In order to run this code, you will need to execute davitpy-notebook (this will load the necessary modules and set the proper environament variables and paths). If you insist on running this without using davitpy-notebook, you will need the following block:"
     ]
    },
    {
     "cell_type": "code",
     "collapsed": false,
     "input": [
      "# This part can be skipped if you are using davitpy-notebook\n",
      "import sys\n",
      "sys.path.append('../..')\n",
      "import os\n",
      "os.environ['RSTPATH'] = '/Users/sebastien/rst/VT_RST3'"
     ],
     "language": "python",
     "metadata": {},
     "outputs": []
    },
    {
     "cell_type": "code",
     "collapsed": false,
     "input": [
      "# But everything after this point needs to be executed (or just look at the pre-generated output)\n",
      "from pydarn.radar import *\n",
      "radars = network()\n",
      "print radars"
     ],
     "language": "python",
     "metadata": {},
     "outputs": [
      {
       "output_type": "stream",
       "stream": "stdout",
       "text": [
        "Network information object: \t\t\t\t\n",
        "\tTotal radars: 47\n",
        "\t\t[0] Test Radar (planned)\n",
        "\t\t[1] Goose Bay (active)\n",
        "\t\t[2] Schefferville (offline)\n",
        "\t\t[3] Kapuskasing (active)\n",
        "\t\t[4] Halley (active)\n",
        "\t\t[5] Saskatoon (active)\n",
        "\t\t[6] Prince George (active)\n",
        "\t\t[7] Kodiak (active)\n",
        "\t\t[8] Stokkseyri (active)\n",
        "\t\t[9] Pykkvibaer (active)\n",
        "\t\t[10] Hankasalmi (active)\n",
        "\t\t[11] Sanae (active)\n",
        "\t\t[12] Syowa South (active)\n",
        "\t\t[13] Syowa East (active)\n",
        "\t\t[14] TIGER (active)\n",
        "\t\t[15] Kerguelen (active)\n",
        "\t\t[16] King Salmon (active)\n",
        "\t\t[18] Unwin (active)\n",
        "\t\t[19] Zhongshan Station (active)\n",
        "\t\t[20] McMurdo (active)\n",
        "\t\t[21] Falkland Islands (offline)\n",
        "\t\t[32] Wallops Island (active)\n",
        "\t\t[33] Blackstone (active)\n",
        "\t\t[40] Hokkaido (active)\n",
        "\t\t[64] Inuvik (active)\n",
        "\t\t[65] Rankin Inlet (active)\n",
        "\t\t[128] Svalbard (planned)\n",
        "\t\t[204] Fort Hays West (active)\n",
        "\t\t[205] Fort Hays East (active)\n",
        "\t\t[206] Christmas Valley West (active)\n",
        "\t\t[207] Christmas Valley East (active)\n",
        "\t\t[208] Aleutian Islands West (planned)\n",
        "\t\t[209] Aleutian Islands East (planned)\n",
        "\t\t[210] Azores West (planned)\n",
        "\t\t[211] Azores East (planned)\n",
        "\t\t[501] Svedlovsk East (planned)\n",
        "\t\t[502] Svedlovsk West (planned)\n",
        "\t\t[503] Hokkaido West (planned)\n",
        "\t\t[504] Irkutsk East (planned)\n",
        "\t\t[505] Irkutsk West (planned)\n",
        "\t\t[506] Kashi East (planned)\n",
        "\t\t[507] Kashi West (planned)\n",
        "\t\t[508] Ejina East (planned)\n",
        "\t\t[509] Ejina West (planned)\n",
        "\t\t[510] Shenyang East (planned)\n",
        "\t\t[511] Shenyang West (planned)\n",
        "\t\t[512] EKB Radar (planned)\n"
       ]
      }
     ],
     "prompt_number": 10
    },
    {
     "cell_type": "code",
     "collapsed": false,
     "input": [
      "# How to get the total number of radars\n",
      "print len(radars)\n",
      "print radars.nradar"
     ],
     "language": "python",
     "metadata": {},
     "outputs": [
      {
       "output_type": "stream",
       "stream": "stdout",
       "text": [
        "47\n",
        "47\n"
       ]
      }
     ],
     "prompt_number": 11
    },
    {
     "cell_type": "code",
     "collapsed": false,
     "input": [
      "# How to get a specific radar from the mountain of recorded radars\n",
      "print radars.getRadarByCode(\"bks\")\n",
      "# is equivalent to...\n",
      "#print radars.getRadarById(33)\n",
      "#print, radars.getRadarByName(\"Blackstone\")"
     ],
     "language": "python",
     "metadata": {},
     "outputs": [
      {
       "output_type": "stream",
       "stream": "stdout",
       "text": [
        "id: 33 \t\t\t\t\t\n",
        "status: 1 \t\t\t\t\t\n",
        "cnum: 0 \t\t\t\t\t\n",
        "code: bks \t\t\t\t\t\n",
        "name: Blackstone \t\t\t\t\t\n",
        "operator: JHU/APL \t\t\t\t\t\n",
        "hdwfname: hdw.dat.bks \t\t\t\t\t\n",
        "st_time: 2008-02-02 \t\t\t\t\t\n",
        "ed_time: 2500-01-01 \t\t\t\t\t\n",
        "snum: 0 \t\t\t\t\t\n",
        "site: 32 elements\n"
       ]
      }
     ],
     "prompt_number": 15
    },
    {
     "cell_type": "code",
     "collapsed": false,
     "input": [
      "# How to get a specific radar site information at a given date\n",
      "from datetime import datetime\n",
      "print radars.getRadarByName('Goose Bay').getSiteByDate(datetime(2011,1,4))"
     ],
     "language": "python",
     "metadata": {},
     "outputs": [
      {
       "output_type": "stream",
       "stream": "stdout",
       "text": [
        "tval: -1 \t\t\t\t\t\n",
        "geolat: 53.32 \t\t\t\t\t\n",
        "geolon: -60.46 \t\t\t\t\t\n",
        "alt:  50.00 \t\t\t\t\t\n",
        "boresite:  5.00 \t\t\t\t\t\n",
        "bmsep:  3.24 \t\t\t\t\t\n",
        "vdir: 1.0 \t\t\t\t\t\n",
        "atten:  0.00 \t\t\t\t\t\n",
        "tdiff: 0.4780 \t\t\t\t\t\n",
        "phidiff: 1.0 \t\t\t\t\t\n",
        "interfer: [ 1.50, 100.00,  0.00] \t\t\t\t\t\n",
        "recrise: 0.000 \t\t\t\t\t\n",
        "maxatten: 0 \t\t\t\t\t\n",
        "maxrange: 100 \t\t\t\t\t\n",
        "maxbeam: 16\n"
       ]
      }
     ],
     "prompt_number": 17
    },
    {
     "cell_type": "code",
     "collapsed": false,
     "input": [],
     "language": "python",
     "metadata": {},
     "outputs": []
    }
   ],
   "metadata": {}
  }
 ]
}