{
 "metadata": {
  "name": "Models"
 },
 "nbformat": 3,
 "nbformat_minor": 0,
 "worksheets": [
  {
   "cells": [
    {
     "cell_type": "markdown",
     "metadata": {},
     "source": [
      "## DaViTpy - models  \n",
      "\n",
      "This notebook introduces useful space science models included in davitpy.  \n",
      "   \n",
      "Currently we have ported/wrapped the following models to python:  \n",
      "   \n",
      "- IGRF11"
     ]
    },
    {
     "cell_type": "code",
     "collapsed": false,
     "input": [
      "from models import *"
     ],
     "language": "python",
     "metadata": {},
     "outputs": [],
     "prompt_number": 1
    },
    {
     "cell_type": "code",
     "collapsed": false,
     "input": [],
     "language": "python",
     "metadata": {},
     "outputs": []
    }
   ],
   "metadata": {}
  }
 ]
}