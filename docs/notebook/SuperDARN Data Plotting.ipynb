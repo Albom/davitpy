{
 "metadata": {
  "name": "",
  "signature": "sha256:216e8986fa865cb3bd01a893e6b89aeccce0e5ce27ef3943d03b2f6a6d5566ad"
 },
 "nbformat": 3,
 "nbformat_minor": 0,
 "worksheets": [
  {
   "cells": [
    {
     "cell_type": "heading",
     "level": 1,
     "metadata": {},
     "source": [
      "This notebook will demonstrate how to do basic SuperDARN data plotting."
     ]
    },
    {
     "cell_type": "code",
     "collapsed": false,
     "input": [
      "import datetime\n",
      "import os\n",
      "import matplotlib.pyplot as plt\n",
      "\n",
      "import pydarn"
     ],
     "language": "python",
     "metadata": {},
     "outputs": [],
     "prompt_number": 1
    },
    {
     "cell_type": "code",
     "collapsed": false,
     "input": [
      "sTime = datetime.datetime(2008,2,22)\n",
      "eTime = datetime.datetime(2008,2,23)\n",
      "radar = 'bks'\n",
      "beam  = 7"
     ],
     "language": "python",
     "metadata": {},
     "outputs": [],
     "prompt_number": 2
    },
    {
     "cell_type": "heading",
     "level": 2,
     "metadata": {},
     "source": [
      "RTI Plots"
     ]
    },
    {
     "cell_type": "code",
     "collapsed": false,
     "input": [
      "#The following command will print the docstring for the plotRti routine:\n",
      "pydarn.plotting.rti.plotRti?"
     ],
     "language": "python",
     "metadata": {},
     "outputs": [],
     "prompt_number": 3
    },
    {
     "cell_type": "code",
     "collapsed": false,
     "input": [],
     "language": "python",
     "metadata": {},
     "outputs": []
    },
    {
     "cell_type": "code",
     "collapsed": false,
     "input": [
      "fig = plt.figure(figsize=(14,12)) #Define a figure with a custom size.\n",
      "pydarn.plotting.rti.plotRti(sTime, radar, eTime=eTime, bmnum=beam, figure=fig)\n",
      "plt.show()"
     ],
     "language": "python",
     "metadata": {},
     "outputs": [
      {
       "output_type": "stream",
       "stream": "stdout",
       "text": [
        "Found cached file: /tmp/sd/20080222.000000.20080223.000000.bks.fitex\n",
        "\n",
        "reached end of data"
       ]
      },
      {
       "output_type": "stream",
       "stream": "stdout",
       "text": [
        "\n",
        "plotting took:"
       ]
      }
     ]
    },
    {
     "cell_type": "code",
     "collapsed": false,
     "input": [
      "#Now save as a PNG to your home folder...\n",
      "home = os.getenv('HOME')\n",
      "filename = os.path.join(home,'rti.png')\n",
      "fig.savefig(filename)"
     ],
     "language": "python",
     "metadata": {},
     "outputs": []
    },
    {
     "cell_type": "code",
     "collapsed": false,
     "input": [
      "fig.clear() #Clear the figure from memory."
     ],
     "language": "python",
     "metadata": {},
     "outputs": []
    }
   ],
   "metadata": {}
  }
 ]
}