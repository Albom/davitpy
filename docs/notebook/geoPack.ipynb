{
 "metadata": {
  "name": "geoPack"
 },
 "nbformat": 3,
 "nbformat_minor": 0,
 "worksheets": [
  {
   "cells": [
    {
     "cell_type": "markdown",
     "metadata": {},
     "source": [
      "### geoPack: geographic/geometric module\n",
      "This presents the functions contained in the geoPack submodule of the utils module. Functions in this submodule are designed to calculate positions geographic position, account for the oblateness of the Earth, convert between simple geometric/geographic coordinate systems, and maybe more...\n"
     ]
    },
    {
     "cell_type": "code",
     "collapsed": false,
     "input": [
      "import utils.geoPack as geo"
     ],
     "language": "python",
     "metadata": {},
     "outputs": [],
     "prompt_number": 5
    },
    {
     "cell_type": "code",
     "collapsed": false,
     "input": [
      "# Declare point of origin\n",
      "lat = 40.\n",
      "lon = -75."
     ],
     "language": "python",
     "metadata": {},
     "outputs": []
    }
   ],
   "metadata": {}
  }
 ]
}