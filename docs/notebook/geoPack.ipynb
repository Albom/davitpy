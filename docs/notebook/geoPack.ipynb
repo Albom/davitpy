{
 "metadata": {
  "name": "geoPack"
 },
 "nbformat": 3,
 "nbformat_minor": 0,
 "worksheets": [
  {
   "cells": [
    {
     "cell_type": "markdown",
     "metadata": {},
     "source": [
      "### geoPack: geographic/geometric module\n",
      "This presents the functions contained in the geoPack submodule of the utils module. Functions in this submodule are designed to calculate positions geographic position, account for the oblateness of the Earth, convert between simple geometric/geographic coordinate systems, and maybe more...\n"
     ]
    },
    {
     "cell_type": "code",
     "collapsed": false,
     "input": [
      "from utils.geoPack import *\n",
      "from math import *"
     ],
     "language": "python",
     "metadata": {},
     "outputs": [],
     "prompt_number": 28
    },
    {
     "cell_type": "code",
     "collapsed": false,
     "input": [
      "# Declare point of origin\n",
      "lat = 40.\n",
      "lon = -75.\n",
      "az = -20.\n",
      "el = 15.\n",
      "alt = 100."
     ],
     "language": "python",
     "metadata": {},
     "outputs": [],
     "prompt_number": 32
    },
    {
     "cell_type": "code",
     "collapsed": false,
     "input": [
      "# Test geodToGeoc\n",
      "(gclat, gclon, Re) = geodToGeoc(lat, lon)\n",
      "print 'Geocentric latitude: {:5.4f}'.format(gclat)+unichr(176)+'N, longitude: {:5.4f}'.format(gclon)+unichr(176)+'E'\n",
      "print 'Earth radius {:5.4f} km'.format(Re)\n",
      "(gdlat, gdlon, Re) = geodToGeoc(gclat, gclon,into='geod')\n",
      "print 'Geodetic latitude: {:5.4f}'.format(gdlat)+unichr(176)+'N, longitude: {:5.4f}'.format(gdlon)+unichr(176)+'E'\n",
      "print 'Earth radius {:5.4f} km'.format(Re)"
     ],
     "language": "python",
     "metadata": {},
     "outputs": [
      {
       "output_type": "stream",
       "stream": "stdout",
       "text": [
        "Geocentric latitude: 39.8106\u00b0N, longitude: -75.0000\u00b0E\n",
        "Earth radius 6369.3676 km\n",
        "Geodetic latitude: 40.0000\u00b0N, longitude: -75.0000\u00b0E"
       ]
      },
      {
       "output_type": "stream",
       "stream": "stdout",
       "text": [
        "\n",
        "Earth radius 6369.3676 km\n"
       ]
      }
     ],
     "prompt_number": 22
    },
    {
     "cell_type": "code",
     "collapsed": false,
     "input": [
      "# Test geodToGeocAzEl\n",
      "(gclat, gclon, Re, gaz, gel) = geodToGeocAzEl(lat,lon,az,el)\n",
      "print 'Geocentric latitude: {:5.4f}'.format(gclat)+unichr(176)+'N, longitude: {:5.4f}'.format(gclon)+unichr(176)+'E'\n",
      "print 'Geocentric Azimuth: {:5.4f}'.format(gaz)+unichr(176)+', elevation: {:5.4f}'.format(gel)+unichr(176)+'E'\n",
      "print 'Earth radius {:5.4f} km'.format(Re)\n",
      "(gdlat, gdlon, Re, gdaz, gdel) = geodToGeocAzEl(gclat,gclon,gaz,gel,into='geod')\n",
      "print 'Geodetic latitude: {:5.4f}'.format(gdlat)+unichr(176)+'N, longitude: {:5.4f}'.format(gdlon)+unichr(176)+'E'\n",
      "print 'Geodetic Azimuth: {:5.4f}'.format(gdaz)+unichr(176)+', elevation: {:5.4f}'.format(gdel)+unichr(176)+'E'\n",
      "print 'Earth radius {:5.4f} km'.format(Re)"
     ],
     "language": "python",
     "metadata": {},
     "outputs": [
      {
       "output_type": "stream",
       "stream": "stdout",
       "text": [
        "Geocentric latitude: 39.8106\u00b0N, longitude: -75.0000\u00b0E\n",
        "Geocentric Azimuth: -19.9828\u00b0, elevation: 14.8220\u00b0E\n",
        "Earth radius 6369.3676 km\n",
        "Geodetic latitude: 40.0000\u00b0N, longitude: -75.0000\u00b0E"
       ]
      },
      {
       "output_type": "stream",
       "stream": "stdout",
       "text": [
        "\n",
        "Geodetic Azimuth: -20.0000\u00b0, elevation: 15.0000\u00b0E\n",
        "Earth radius 6369.3676 km\n"
       ]
      }
     ],
     "prompt_number": 31
    },
    {
     "cell_type": "code",
     "collapsed": false,
     "input": [
      "# Test gspToGcar\n",
      "(gclat, gclon, Re) = geodToGeoc(lat, lon)\n",
      "(X, Y, Z) = gspToGcar(gclat, gclon, alt)"
     ],
     "language": "python",
     "metadata": {},
     "outputs": [],
     "prompt_number": 29
    },
    {
     "cell_type": "code",
     "collapsed": false,
     "input": [],
     "language": "python",
     "metadata": {},
     "outputs": []
    }
   ],
   "metadata": {}
  }
 ]
}