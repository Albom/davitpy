{
 "metadata": {
  "name": "radDataRead"
 },
 "nbformat": 3,
 "nbformat_minor": 0,
 "worksheets": [
  {
   "cells": [
    {
     "cell_type": "markdown",
     "metadata": {},
     "source": [
      "Radar data read functions\n",
      "==\n",
      "***\n",
      "\n",
      "In this notebook, we will explore how to read radar data. The necessary routines are in `pydarn.sdio`"
     ]
    },
    {
     "cell_type": "code",
     "collapsed": false,
     "input": [
      "############################################\n",
      "# This code adds davitpy to your python path\n",
      "# Eventually, this won't be necessary\n",
      "import sys\n",
      "sys.path.append('/davitpy')\n",
      "############################################"
     ],
     "language": "python",
     "metadata": {},
     "outputs": [],
     "prompt_number": 1
    },
    {
     "cell_type": "code",
     "collapsed": false,
     "input": [
      "import pydarn.sdio\n",
      "import datetime as dt"
     ],
     "language": "python",
     "metadata": {},
     "outputs": [],
     "prompt_number": 3
    },
    {
     "cell_type": "code",
     "collapsed": false,
     "input": [
      "#the first routine we will call is radDataOpen, which\n",
      "#establishes a data piepeline.  we will now set up the args.\n",
      "\n",
      "#sTime is the time we want to start reading (reqd input)\n",
      "sTime = dt.datetime(2011,1,1,1,0)\n",
      "print sTime\n",
      "\n",
      "#rad is the 3-letter radar code for the radar we want (reqd input)\n",
      "rad='bks'\n",
      "\n",
      "#NOTE:the rest of the inputs are optional\n",
      "#eTime is the end time we want to read until\n",
      "eTime = dt.datetime(2011,1,1,2,0)\n",
      "print eTime\n",
      "\n",
      "#channel is the radar channel we want data from, eg 'a'\n",
      "#by default this is None, which will read data from all channels\n",
      "channel='a'\n",
      "\n",
      "#bmnum is the beam number we want data from.  by default this is\n",
      "#None, which will read data from all beams\n",
      "bmnum=7\n",
      "\n",
      "#cp is the control program id number which we want data from\n",
      "#by default, this is set to None which reads data from all cpids\n",
      "cp=None\n",
      "\n",
      "#fileType specifies the type of data we want.  valid inputs are\n",
      "#'fitex','fitacf','lmfit','rawacf'.  by default this is 'fitex'\n",
      "#if a fit type is requested but not found, the code will automatically\n",
      "#look for other fit types\n",
      "fileType='fitacf'\n",
      "\n",
      "#filter is a boolean indicating whether to boxcar filter the data.\n",
      "#this is onyl valid for fit types, and wont work on mongo data\n",
      "filtered=False\n",
      "\n",
      "#src is a string indicating the desired data source.  valid\n",
      "#inputs are 'mongo','local','sftp'.  by default this is set to\n",
      "#None which will sequentially try all sources\n",
      "src=None"
     ],
     "language": "python",
     "metadata": {},
     "outputs": [
      {
       "output_type": "stream",
       "stream": "stdout",
       "text": [
        "2011-01-01 01:00:00\n",
        "2011-01-01 02:00:00\n"
       ]
      }
     ],
     "prompt_number": 4
    },
    {
     "cell_type": "code",
     "collapsed": false,
     "input": [
      "# Okay, now lets get the data connection\n",
      "myPtr = pydarn.sdio.radDataOpen(sTime,rad,eTime=eTime,channel=channel,bmnum=bmnum,cp=cp,fileType=fileType,filtered=filtered, src=src)"
     ],
     "language": "python",
     "metadata": {},
     "outputs": [
      {
       "output_type": "stream",
       "stream": "stdout",
       "text": [
        "\n",
        "Looking locally for fitacf files\n",
        "bunzip2 -c /sd-data/2011/fitacf/bks/20110101.0001.00.bks.fitacf.bz2 > /tmp/fit/20110101.0001.00.bks.fitacf\n"
       ]
      },
      {
       "output_type": "stream",
       "stream": "stdout",
       "text": [
        "\n",
        "bunzip2 -c /sd-data/2011/fitacf/bks/20110101.0201.00.bks.fitacf.bz2 > /tmp/fit/20110101.0201.00.bks.fitacf\n"
       ]
      },
      {
       "output_type": "stream",
       "stream": "stdout",
       "text": [
        "\n",
        "found"
       ]
      },
      {
       "output_type": "stream",
       "stream": "stdout",
       "text": [
        " fitacf data in local files\n",
        "Concatenating all the files in to one\n",
        "cat /tmp/fit/20110101.0001.00.bks.fitacf /tmp/fit/20110101.0201.00.bks.fitacf > /tmp/fit/1365264690.bks.fitacf\n",
        "rm /tmp/fit/20110101.0001.00.bks.fitacf\n",
        "rm /tmp/fit/20110101.0201.00.bks.fitacf\n"
       ]
      }
     ],
     "prompt_number": 5
    },
    {
     "cell_type": "code",
     "collapsed": false,
     "input": [
      "# Note that the output or radDataOpen is of type radDataPtr\n",
      "# Let's explore its contents\n",
      "\n",
      "for key,val in myPtr.__dict__.iteritems():\n",
      "    print 'myPtr.'+key+' = '+str(val)\n",
      "    "
     ],
     "language": "python",
     "metadata": {},
     "outputs": [
      {
       "output_type": "stream",
       "stream": "stdout",
       "text": [
        "myPtr.bmnum = 7\n",
        "myPtr.dType = dmap\n",
        "myPtr.stid = 33\n",
        "myPtr.eTime = 2011-01-01 02:00:00\n",
        "myPtr.fBeam = None\n",
        "myPtr.fType = fitacf\n",
        "myPtr.sTime = 2011-01-01 01:00:00\n",
        "myPtr.cp = None\n",
        "myPtr.ptr = <open file '/tmp/fit/1365264690.bks.fitacf', mode 'r' at 0x312f5d0>\n",
        "myPtr.channel = a\n"
       ]
      }
     ],
     "prompt_number": 6
    },
    {
     "cell_type": "code",
     "collapsed": false,
     "input": [
      "# Okay, now that we have our radDataPtr, we can use it to read data\n",
      "# this is done with the command radDataReadRec\n",
      "# this same command can be used for any type of data\n",
      "\n",
      "myBeam = pydarn.sdio.radDataReadRec(myPtr)"
     ],
     "language": "python",
     "metadata": {},
     "outputs": [],
     "prompt_number": 7
    },
    {
     "cell_type": "code",
     "collapsed": false,
     "input": [
      "print myBeam"
     ],
     "language": "python",
     "metadata": {},
     "outputs": [
      {
       "output_type": "stream",
       "stream": "stdout",
       "text": [
        "Beam record FROM: 2011-01-01 01:00:24.789000\n",
        "bmnum = 7\n",
        "fitex = None\n",
        "fit = <pydarn.sdio.radDataTypes.fitData instance at 0x313eb00>\n",
        "prm = <pydarn.sdio.radDataTypes.prmData instance at 0x313ee60>\n",
        "stid = 33\n",
        "lmfit = None\n",
        "exflg = None\n",
        "iqflg = None\n",
        "rawacf = <pydarn.sdio.radDataTypes.rawData instance at 0x313ecf8>\n",
        "lmflg = None\n",
        "rawflg = None\n",
        "fType = fitacf\n",
        "time = 2011-01-01 01:00:24.789000\n",
        "acflg = 1\n",
        "cp = 153\n",
        "iqdat = <pydarn.sdio.radDataTypes.iqData instance at 0x313eb48>\n",
        "fitacf = None\n",
        "channel = a\n",
        "\n"
       ]
      }
     ],
     "prompt_number": 8
    },
    {
     "cell_type": "code",
     "collapsed": false,
     "input": [
      "# The output is of type beamData\n",
      "# a beamData object can store fit data as well as rawacf and iqdat data\n",
      "# let's look at the contents of myBeam\n",
      "for key,val in myBeam.__dict__.iteritems():\n",
      "    print 'myBeam.'+key+' = '+str(val)"
     ],
     "language": "python",
     "metadata": {},
     "outputs": [
      {
       "output_type": "stream",
       "stream": "stdout",
       "text": [
        "myBeam.bmnum = 7\n",
        "myBeam.fitex = None\n",
        "myBeam.fit = <pydarn.sdio.radDataTypes.fitData instance at 0x313eb00>\n",
        "myBeam.prm = <pydarn.sdio.radDataTypes.prmData instance at 0x313ee60>\n",
        "myBeam.stid = 33\n",
        "myBeam.lmfit = None\n",
        "myBeam.exflg = None\n",
        "myBeam.iqflg = None\n",
        "myBeam.rawacf = <pydarn.sdio.radDataTypes.rawData instance at 0x313ecf8>\n",
        "myBeam.lmflg = None\n",
        "myBeam.rawflg = None\n",
        "myBeam.fType = fitacf\n",
        "myBeam.time = 2011-01-01 01:00:24.789000\n",
        "myBeam.acflg = 1\n",
        "myBeam.cp = 153\n",
        "myBeam.iqdat = <pydarn.sdio.radDataTypes.iqData instance at 0x313eb48>\n",
        "myBeam.fitacf = None\n",
        "myBeam.channel = a\n"
       ]
      }
     ],
     "prompt_number": 9
    },
    {
     "cell_type": "code",
     "collapsed": false,
     "input": [
      "# See that the rawacf, fit, and prm attributes are objects\n",
      "# the rawacf object is empty, since we read fitacf data\n",
      "# lets look at the prm object\n",
      "for key,val in myBeam.prm.__dict__.iteritems():\n",
      "    print 'myBeam.prm.'+key+' = '+str(val)"
     ],
     "language": "python",
     "metadata": {},
     "outputs": [
      {
       "output_type": "stream",
       "stream": "stdout",
       "text": [
        "myBeam.prm.ptab = [0, 9, 12, 20, 22, 26, 27]\n",
        "myBeam.prm.mplgs = 18\n",
        "myBeam.prm.nave = 29\n",
        "myBeam.prm.noisesearch = 21.1200447083\n",
        "myBeam.prm.scan = 0\n",
        "myBeam.prm.smsep = 300\n",
        "myBeam.prm.mplgexs = 0\n",
        "myBeam.prm.xcf = 1\n",
        "myBeam.prm.noisesky = 97.9000015259\n",
        "myBeam.prm.rsep = 45\n",
        "myBeam.prm.mppul = 7\n",
        "myBeam.prm.inttsc = 3\n",
        "myBeam.prm.frang = 180\n",
        "myBeam.prm.bmazm = -33.9300003052\n",
        "myBeam.prm.lagfr = 1200\n",
        "myBeam.prm.ifmode = -1\n",
        "myBeam.prm.noisemean = 0.0\n",
        "myBeam.prm.tfreq = 10954\n",
        "myBeam.prm.inttus = 0\n",
        "myBeam.prm.rxrise = 100\n",
        "myBeam.prm.ltab = [[0, 0], [26, 27], [20, 22], [9, 12], [22, 26], [22, 27], [20, 26], [20, 27], [0, 9], [12, 22], [9, 20], [0, 12], [9, 22], [12, 26], [12, 27], [9, 26], [9, 27], [27, 27]]\n",
        "myBeam.prm.mpinc = 2400\n",
        "myBeam.prm.nrang = 70\n"
       ]
      }
     ],
     "prompt_number": 10
    },
    {
     "cell_type": "code",
     "collapsed": false,
     "input": [
      "# And lets look at whats in the fit object\n",
      "for key in myBeam.fit.__dict__.keys():\n",
      "    print 'myBeam.fit.'+key"
     ],
     "language": "python",
     "metadata": {},
     "outputs": [
      {
       "output_type": "stream",
       "stream": "stdout",
       "text": [
        "myBeam.fit.pwr0\n",
        "myBeam.fit.slist\n",
        "myBeam.fit.w_l\n",
        "myBeam.fit.elv\n",
        "myBeam.fit.npnts\n",
        "myBeam.fit.w_l_e\n",
        "myBeam.fit.p_l\n",
        "myBeam.fit.phi0_e\n",
        "myBeam.fit.p_s\n",
        "myBeam.fit.v_e\n",
        "myBeam.fit.p_l_e\n",
        "myBeam.fit.phi0\n",
        "myBeam.fit.v\n",
        "myBeam.fit.w_s_e\n",
        "myBeam.fit.qflg\n",
        "myBeam.fit.p_s_e\n",
        "myBeam.fit.gflg\n",
        "myBeam.fit.nlag\n",
        "myBeam.fit.w_s\n"
       ]
      }
     ],
     "prompt_number": 11
    },
    {
     "cell_type": "code",
     "collapsed": false,
     "input": [
      "# we can read to the end of the specified time period, like so:\n",
      "vel, t = [], []\n",
      "while(myBeam != None):\n",
      "    vel.append( myBeam.fit.v )\n",
      "    t.append( myBeam.time )\n",
      "    myBeam = pydarn.sdio.radDataReadRec(myPtr)"
     ],
     "language": "python",
     "metadata": {},
     "outputs": [
      {
       "output_type": "stream",
       "stream": "stdout",
       "text": [
        "\n",
        "reached end of data\n"
       ]
      }
     ],
     "prompt_number": 12
    },
    {
     "cell_type": "code",
     "collapsed": false,
     "input": [
      "# For instance, we could look at the velocity distribution during that period\n",
      "ax = gca()\n",
      "for i in range(len(t)):\n",
      "    if not vel[i]: continue\n",
      "    scatter([date2num(t[i])]*len(vel[i]), vel[i], s=1)\n",
      "ylim([-400, 400])\n",
      "xlim([date2num(sTime), date2num(eTime)])\n",
      "tloc = MinuteLocator(interval=10)\n",
      "tfmt = DateFormatter('%H:%M')\n",
      "ax.xaxis.set_major_locator(tloc)\n",
      "ax.xaxis.set_major_formatter(tfmt)\n",
      "ylabel('Velocity [m/s]')\n",
      "grid()"
     ],
     "language": "python",
     "metadata": {},
     "outputs": [
      {
       "output_type": "display_data",
       "png": "[encoded data removed]"
      }
     ],
     "prompt_number": 13
    },
    {
     "cell_type": "code",
     "collapsed": false,
     "input": [
      "# Now, let's try and example where we read rawacf data (this is slow)\n",
      "myPtr = pydarn.sdio.radDataOpen(sTime,rad,eTime=eTime,channel=channel,bmnum=bmnum,cp=cp,fileType='rawacf',filtered=filtered, src=src)\n",
      "myBeam = pydarn.sdio.radDataReadRec(myPtr)\n",
      "print '\\n'\n",
      "for key in myBeam.rawacf.__dict__.keys():\n",
      "    print 'myBeam.rawacf.'+key"
     ],
     "language": "python",
     "metadata": {},
     "outputs": [
      {
       "output_type": "stream",
       "stream": "stdout",
       "text": [
        "\n",
        "Looking locally for rawacf files\n",
        "bunzip2 -c /sd-data/2011/rawacf/bks/20110101.0001.00.bks.rawacf.bz2 > /tmp/fit/20110101.0001.00.bks.rawacf\n"
       ]
      },
      {
       "output_type": "stream",
       "stream": "stdout",
       "text": [
        "\n",
        "bunzip2 -c /sd-data/2011/rawacf/bks/20110101.0201.00.bks.rawacf.bz2 > /tmp/fit/20110101.0201.00.bks.rawacf\n"
       ]
      },
      {
       "output_type": "stream",
       "stream": "stdout",
       "text": [
        "\n",
        "found"
       ]
      },
      {
       "output_type": "stream",
       "stream": "stdout",
       "text": [
        " rawacf data in local files\n",
        "Concatenating all the files in to one\n",
        "cat /tmp/fit/20110101.0001.00.bks.rawacf /tmp/fit/20110101.0201.00.bks.rawacf > /tmp/fit/1365264702.bks.rawacf\n",
        "rm /tmp/fit/20110101.0001.00.bks.rawacf"
       ]
      },
      {
       "output_type": "stream",
       "stream": "stdout",
       "text": [
        "\n",
        "rm /tmp/fit/20110101.0201.00.bks.rawacf\n",
        "\n"
       ]
      },
      {
       "output_type": "stream",
       "stream": "stdout",
       "text": [
        "\n",
        "myBeam.rawacf.acfd\n",
        "myBeam.rawacf.xcfd\n",
        "myBeam.rawacf.parent\n"
       ]
      }
     ],
     "prompt_number": 14
    },
    {
     "cell_type": "code",
     "collapsed": false,
     "input": [
      "# this is a little dense, so lets look at the ACF just for range gate 0, and the lag table\n",
      "print myBeam.rawacf.acfd[0]\n",
      "print myBeam.prm.ltab"
     ],
     "language": "python",
     "metadata": {},
     "outputs": [
      {
       "output_type": "stream",
       "stream": "stdout",
       "text": [
        "[[191.6206817626953, 0.0], [-43.7931022644043, -21.517240524291992], [48.86206817626953, 74.68965148925781], [6.413793087005615, -49.034481048583984], [43.10344696044922, -1.482758641242981], [-53.89655303955078, -132.55172729492188], [-3.2413792610168457, -26.10344886779785], [66.96551513671875, -61.75862121582031], [-19.689655303955078, 36.517242431640625], [20.34482765197754, 70.03448486328125], [-31.931034088134766, 15.793103218078613], [-8.965517044067383, -35.75862121582031], [-43.75862121582031, -74.5862045288086], [1.137930989265442, 16.10344886779785], [38.482757568359375, -42.44827651977539], [-4.758620738983154, 29.413793563842773], [-0.9655172228813171, -34.2068977355957], [753.586181640625, 0.0]]\n",
        "[[0, 0], [26, 27], [20, 22], [9, 12], [22, 26], [22, 27], [20, 26], [20, 27], [0, 9], [12, 22], [9, 20], [0, 12], [9, 22], [12, 26], [12, 27], [9, 26], [9, 27], [27, 27]]\n"
       ]
      }
     ],
     "prompt_number": 15
    },
    {
     "cell_type": "code",
     "collapsed": false,
     "input": [
      "# we can plot this, like so:\n",
      "import matplotlib.pyplot as plt\n",
      "lags,re,im = [],[],[]\n",
      "for i in range(len(myBeam.prm.ltab)-1):\n",
      "    lags.append(myBeam.prm.ltab[i][1]-myBeam.prm.ltab[i][0])\n",
      "    re.append(myBeam.rawacf.acfd[0][i][0])\n",
      "    im.append(myBeam.rawacf.acfd[0][i][1])\n",
      "fig = plt.figure()\n",
      "plt.plot(lags,re,'ro-')\n",
      "plt.plot(lags,im,'bo-')\n",
      "plt.show()"
     ],
     "language": "python",
     "metadata": {},
     "outputs": [
      {
       "output_type": "display_data",
       "png": "[encoded data removed]"
      }
     ],
     "prompt_number": 16
    },
    {
     "cell_type": "code",
     "collapsed": false,
     "input": [
      "# And finally, lets try an iqdat file\n",
      "# THIS IS VERY SLOOOOOW\n",
      "myPtr = pydarn.sdio.radDataOpen(dt.datetime(2012,1,1,1,0),'fhe',eTime=dt.datetime(2012,1,1,1,30),channel=channel,bmnum=bmnum,cp=cp,fileType='iqdat',filtered=filtered, src=src)\n",
      "myBeam = pydarn.sdio.radDataReadRec(myPtr)\n",
      "for key in myBeam.iqdat.__dict__.keys():\n",
      "    print 'myBeam.iqdat.'+key"
     ],
     "language": "python",
     "metadata": {},
     "outputs": [
      {
       "output_type": "stream",
       "stream": "stdout",
       "text": [
        "\n",
        "Looking locally for iqdat files\n",
        "bunzip2 -c /sd-data/2012/iqdat/fhe/20120101.0001.00.fhe.iqdat.bz2 > /tmp/fit/20120101.0001.00.fhe.iqdat\n"
       ]
      },
      {
       "output_type": "stream",
       "stream": "stdout",
       "text": [
        "\n",
        "found"
       ]
      },
      {
       "output_type": "stream",
       "stream": "stdout",
       "text": [
        " iqdat data in local files\n",
        "Concatenating all the files in to one\n",
        "cat /tmp/fit/20120101.0001.00.fhe.iqdat > /tmp/fit/1365264715.fhe.iqdat\n",
        "rm /tmp/fit/20120101.0001.00.fhe.iqdat"
       ]
      },
      {
       "output_type": "stream",
       "stream": "stdout",
       "text": [
        "\n",
        "myBeam.iqdat.chnnum"
       ]
      },
      {
       "output_type": "stream",
       "stream": "stdout",
       "text": [
        "\n",
        "myBeam.iqdat.badtr\n",
        "myBeam.iqdat.tsze\n",
        "myBeam.iqdat.skpnum\n",
        "myBeam.iqdat.seqnum\n",
        "myBeam.iqdat.smpnum\n",
        "myBeam.iqdat.tus\n",
        "myBeam.iqdat.tsc\n",
        "myBeam.iqdat.intData\n",
        "myBeam.iqdat.tbadtr\n",
        "myBeam.iqdat.mainData\n",
        "myBeam.iqdat.toff\n",
        "myBeam.iqdat.tnoise\n",
        "myBeam.iqdat.tatten\n",
        "myBeam.iqdat.btnum\n"
       ]
      }
     ],
     "prompt_number": 17
    },
    {
     "cell_type": "code",
     "collapsed": false,
     "input": [
      "# again this is dense, lets plot a single pulse sequence iqdat\n",
      "# we can plot this, like so:\n",
      "samp = []\n",
      "iq = [[],[]]\n",
      "for i in range(myBeam.iqdat.smpnum):\n",
      "    samp.append(i)\n",
      "    iq[0].append(myBeam.iqdat.mainData[0][i][0])\n",
      "    iq[1].append(myBeam.iqdat.mainData[0][i][1])\n",
      "fig = plt.figure()\n",
      "plt.plot(samp,iq[0],'r-')\n",
      "plt.plot(samp,iq[1],'b-')\n",
      "plt.show()\n"
     ],
     "language": "python",
     "metadata": {},
     "outputs": [
      {
       "output_type": "display_data",
       "png": "[encoded data removed]"
      }
     ],
     "prompt_number": 18
    },
    {
     "cell_type": "code",
     "collapsed": false,
     "input": [
      "# this concludes our tutorial on how to read radar data.\n",
      "\n",
      "# ENJOY!"
     ],
     "language": "python",
     "metadata": {},
     "outputs": [],
     "prompt_number": 15
    }
   ],
   "metadata": {}
  }
 ]
}