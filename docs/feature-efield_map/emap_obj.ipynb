{
 "cells": [
  {
   "cell_type": "markdown",
   "metadata": {},
   "source": [
    "# Electric Field Mapping in the IGRF"
   ]
  },
  {
   "cell_type": "markdown",
   "metadata": {},
   "source": [
    "Object oriented version of emap.\n",
    "Requires: \n",
    "  Python 2.7 including: \n",
    "  ipython;\n",
    "  scipy; \n",
    "  numpy; \n",
    "  pandas; \n",
    "  matplotlib; \n",
    "  Mayavi2\n",
    "  \n",
    "Alpha version not intended for general distribution.\n",
    "A beta version will in due course be released under a GNU General Public licence.\n",
    "\n",
    "At present only tested with operating system Ubuntu 14.04.\n",
    "Use at your own risk.\n",
    "\n",
    "\n",
    "Copyright A D M Walker"
   ]
  },
  {
   "cell_type": "markdown",
   "metadata": {},
   "source": [
    "Traces an igrf field line and maps an initial electric field along it.\n",
    "\n",
    "USAGE:\n",
    "1. Run cell 1\n",
    "2. Enter parameters in cell 2\n",
    "3. Run cell 2.\n",
    "   Outputs are initial and final electric fields in gc coordinates\n",
    "4. For three dimensional graphics run cell 3\n",
    "5. Run cell 4 to create an instance of 2d graphics package\n",
    "6. Run cells 5, 6, 7, 8 for appropriate 2d plots.\n"
   ]
  },
  {
   "cell_type": "markdown",
   "metadata": {},
   "source": [
    "## Imports"
   ]
  },
  {
   "cell_type": "code",
   "execution_count": 1,
   "metadata": {
    "collapsed": false
   },
   "outputs": [],
   "source": [
    "# Cell 1. Imports\n",
    "import numpy as np\n",
    "import scipy as sp\n",
    "import edrivers as ed #driver module\n",
    "import egraph as gp # graphics module\n"
   ]
  },
  {
   "cell_type": "markdown",
   "metadata": {},
   "source": [
    "## Set up Parameters and Call Basic Field Line Tracing procedure"
   ]
  },
  {
   "cell_type": "code",
   "execution_count": 3,
   "metadata": {
    "collapsed": false,
    "scrolled": false
   },
   "outputs": [
    {
     "name": "stdout",
     "output_type": "stream",
     "text": [
      "ELECTRIC FIELD\n",
      " \n",
      " GEO Coordinates:\n",
      "  E(start) =  -36.37 , -14.59 , -31.06  mV/m\n",
      "  E(endpoint) = ( -55.64 , -19.83 , 36.01 ) mV/m\n",
      " \n",
      " Azimuthal and meridional components:\n",
      "  E(start) =  -30.0 mV/m, 40.0 mV/m\n",
      "  E(endpoint) =  -34.12 mV/m, 60.18 mV/m\n",
      " \n"
     ]
    }
   ],
   "source": [
    "# Cell 2. Enter Parameters\n",
    "iyear = 2015\n",
    "iday = 183\n",
    "lat = -71.672777778 # Initial geographic latitude (degrees)\n",
    "lon = -2.840555556 # Initial geographic longitude (degrees)\n",
    "h = 250.  # Initial height (km)\n",
    "h0 = 250. # If termination is 'height' then height (km). Otherwise irrelevant\n",
    "emerid = 40. # Meridional component of electric field (mV/m) (normal to B). Irrelevant in model 'igrfb'\n",
    "elong = -30. # Azimuthal component of electric field. Irrelevant in model 'igrfb' \n",
    "#Step must be positive for northward, negative for southward trace\n",
    "step = .15 # Integration step length (Earth radii)\n",
    "nsteps = 500 # Maximum number of steps\n",
    "# Create instance of model\n",
    "model = 'igrf' # model = string. \n",
    "                # 'igrf': Trace field line and map field line separation in IGRF model\n",
    "                # 'igrfb': Trace only the field line in IGRF model\n",
    "                # Further models to be added\n",
    "termination = 'height' # termination = string.\n",
    "                       # string='default': Proceed to maximum number of steps.\n",
    "                       # string='height': Terminate at height h0\n",
    "                       # string = 'equator': Terminate at magnetic equator\n",
    "dr = ed.Driv(iyear,iday,model,termination,h0)\n",
    "outarray,strunc,barr = dr.e_trace(lat,lon,h,step,nsteps)\n",
    "xarr = outarray.T[0,]\n",
    "yarr = outarray.T[1,]\n",
    "zarr = outarray.T[2,]\n",
    "if model == 'igrfb':\n",
    "    print 'Field line trace complete'\n",
    "else:\n",
    "    wxarraz = outarray.T[3,]\n",
    "    wyarraz = outarray.T[4,]\n",
    "    wzarraz = outarray.T[5,]\n",
    "    wxarrmerid = outarray.T[6,]\n",
    "    wyarrmerid = outarray.T[7,]\n",
    "    wzarrmerid = outarray.T[8,]\n",
    "    exarr,eyarr,ezarr = dr.efield(emerid,elong,\n",
    "                                  wxarraz,wyarraz,wzarraz,\n",
    "                                  wxarrmerid,wyarrmerid,wzarrmerid)\n",
    "    xend, yend, zend = xarr[-1], yarr[-1], zarr[-1]\n",
    "    exend, eyend, ezend = exarr[-1], eyarr[-1], ezarr[-1]\n",
    "    ea,em = dr.etransf(xend,yend,zend,exend,eyend,ezend,barr[-3],barr[-2],barr[-1])\n",
    "\n",
    "    #\n",
    "    print 'ELECTRIC FIELD'\n",
    "    print ' '\n",
    "    print ' GEO Coordinates:'\n",
    "    print '  E(start) = ',float(\"{0:.2f}\".format(exarr[0])\n",
    "                            ),',',float(\"{0:.2f}\".format(eyarr[0])\n",
    "                            ),',',float(\"{0:.2f}\".format(ezarr[0])),' mV/m'\n",
    "    print '  E(endpoint) = (',float(\"{0:.2f}\".format(exend)\n",
    "                            ),',',float(\"{0:.2f}\".format(eyend)\n",
    "                            ),',',float(\"{0:.2f}\".format(ezend)),') mV/m'\n",
    "    print ' '\n",
    "    print ' Azimuthal and meridional components:'\n",
    "    print '  E(start) = ', float(\"{0:.2f}\".format(elong)),'mV/m,',float(\"{0:.2f}\".format(emerid)), 'mV/m'\n",
    "    print '  E(endpoint) = ', float(\"{0:.2f}\".format(ea)),'mV/m,',float(\"{0:.2f}\".format(em)), 'mV/m'\n",
    "    print ' '\n",
    "                     \n",
    "                     \n",
    "                     \n",
    "                     \n",
    "                     \n",
    "\n",
    "\n",
    "######################################################################\n"
   ]
  },
  {
   "cell_type": "markdown",
   "metadata": {},
   "source": [
    "## 3d Graphics Procedures"
   ]
  },
  {
   "cell_type": "code",
   "execution_count": 4,
   "metadata": {
    "collapsed": false
   },
   "outputs": [
    {
     "name": "stderr",
     "output_type": "stream",
     "text": [
      "/usr/lib/python2.7/dist-packages/traits/has_traits.py:1947: FutureWarning: comparison to `None` will result in an elementwise object comparison in the future.\n",
      "  setattr( self, name, value )\n"
     ]
    }
   ],
   "source": [
    "#Cell 3a. Run 3d graphics for models other than igrfb\n",
    "%gui wx \n",
    "# Mayavi 2 requires wx backend\n",
    "gr = gp.BGraph3d() #instance of 3d graphics class\n",
    "gr.visual_e(xarr,yarr,zarr,exarr,eyarr,ezarr) # Plot B field line and E field vectors"
   ]
  },
  {
   "cell_type": "code",
   "execution_count": null,
   "metadata": {
    "collapsed": false
   },
   "outputs": [],
   "source": [
    "#Cell 3b. Run 3d graphics for model igrfb\n",
    "%gui wx \n",
    "# Mayavi 2 requires wx backend\n",
    "gr = gp.BGraph3d() #instance of 3d graphics class\n",
    "gr.visual_b(xarr,yarr,zarr) # Plot B field line"
   ]
  },
  {
   "cell_type": "markdown",
   "metadata": {},
   "source": [
    "## 2d Graphics Procedures"
   ]
  },
  {
   "cell_type": "code",
   "execution_count": 14,
   "metadata": {
    "collapsed": false
   },
   "outputs": [],
   "source": [
    "# Cell 4. Instance of 2d graphics class\n",
    "gs = gp.BGraph2d()\n"
   ]
  },
  {
   "cell_type": "code",
   "execution_count": 16,
   "metadata": {
    "collapsed": false
   },
   "outputs": [],
   "source": [
    "# Cell 5. Plot electric field components\n",
    "gs.plot_efield(exarr,eyarr,ezarr,strunc)"
   ]
  },
  {
   "cell_type": "code",
   "execution_count": 17,
   "metadata": {
    "collapsed": false
   },
   "outputs": [],
   "source": [
    "# Cell 6. Plot projections of electric field vector.\n",
    "# If warning \"UserWarning: This figure includes Axes that are not compatible with \n",
    "# tight_layout, so its results might be incorrect.\" ignore\n",
    "gs.plot_b_field_projection(xarr,yarr,zarr,exarr,eyarr,ezarr)\n"
   ]
  },
  {
   "cell_type": "code",
   "execution_count": 18,
   "metadata": {
    "collapsed": false
   },
   "outputs": [],
   "source": [
    "# Cell 7, Plot initial and final electric field vectors\n",
    "\n",
    "gs.plot_azmerid(elong,emerid,ea,em)"
   ]
  },
  {
   "cell_type": "code",
   "execution_count": 19,
   "metadata": {
    "collapsed": false
   },
   "outputs": [],
   "source": [
    "# Cell 8. Plot normalized field line separations\n",
    "#         Initial values are in the magnetic azimuth and meridian\n",
    "gs.plot_width(wxarraz,wyarraz,wzarraz,wxarrmerid,wyarrmerid,wzarrmerid,strunc,legpos=2)"
   ]
  },
  {
   "cell_type": "code",
   "execution_count": null,
   "metadata": {
    "collapsed": false
   },
   "outputs": [],
   "source": []
  },
  {
   "cell_type": "code",
   "execution_count": null,
   "metadata": {
    "collapsed": true
   },
   "outputs": [],
   "source": []
  }
 ],
 "metadata": {
  "kernelspec": {
   "display_name": "Python 2",
   "language": "python",
   "name": "python2"
  },
  "language_info": {
   "codemirror_mode": {
    "name": "ipython",
    "version": 2
   },
   "file_extension": ".py",
   "mimetype": "text/x-python",
   "name": "python",
   "nbconvert_exporter": "python",
   "pygments_lexer": "ipython2",
   "version": "2.7.6"
  }
 },
 "nbformat": 4,
 "nbformat_minor": 0
}
